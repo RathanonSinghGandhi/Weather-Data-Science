{
 "cells": [
  {
   "cell_type": "markdown",
   "metadata": {},
   "source": [
    "## Project\n",
    "#### Classifiers (Introduction to Data Science)\n",
    "#### Name: Rathanon Singh Gandhi\n",
    "#### ID: 6280205\n"
   ]
  },
  {
   "cell_type": "code",
   "execution_count": 226,
   "metadata": {},
   "outputs": [],
   "source": [
    "import pandas as pd\n",
    "import matplotlib.pyplot as plt\n",
    "%matplotlib inline"
   ]
  },
  {
   "cell_type": "code",
   "execution_count": 227,
   "metadata": {},
   "outputs": [],
   "source": [
    "df = pd.read_csv(\"weatherAUS.csv\")  #importing the dataset"
   ]
  },
  {
   "cell_type": "code",
   "execution_count": 228,
   "metadata": {},
   "outputs": [
    {
     "name": "stdout",
     "output_type": "stream",
     "text": [
      "<class 'pandas.core.frame.DataFrame'>\n",
      "RangeIndex: 145460 entries, 0 to 145459\n",
      "Data columns (total 23 columns):\n",
      "Date             145460 non-null object\n",
      "Location         145460 non-null object\n",
      "MinTemp          143975 non-null float64\n",
      "MaxTemp          144199 non-null float64\n",
      "Rainfall         142199 non-null float64\n",
      "Evaporation      82670 non-null float64\n",
      "Sunshine         75625 non-null float64\n",
      "WindGustDir      135134 non-null object\n",
      "WindGustSpeed    135197 non-null float64\n",
      "WindDir9am       134894 non-null object\n",
      "WindDir3pm       141232 non-null object\n",
      "WindSpeed9am     143693 non-null float64\n",
      "WindSpeed3pm     142398 non-null float64\n",
      "Humidity9am      142806 non-null float64\n",
      "Humidity3pm      140953 non-null float64\n",
      "Pressure9am      130395 non-null float64\n",
      "Pressure3pm      130432 non-null float64\n",
      "Cloud9am         89572 non-null float64\n",
      "Cloud3pm         86102 non-null float64\n",
      "Temp9am          143693 non-null float64\n",
      "Temp3pm          141851 non-null float64\n",
      "RainToday        142199 non-null object\n",
      "RainTomorrow     142193 non-null object\n",
      "dtypes: float64(16), object(7)\n",
      "memory usage: 25.5+ MB\n"
     ]
    }
   ],
   "source": [
    "df.info() #get information of all columns, showing number of entries in the dataset"
   ]
  },
  {
   "cell_type": "code",
   "execution_count": 229,
   "metadata": {},
   "outputs": [],
   "source": [
    "# This is an array of columns that we will train, where we can only choose columns with float data type\n",
    "baseInfo = ['Evaporation','Sunshine', 'Rainfall', 'Humidity9am', 'Humidity3pm', 'Cloud9am', 'Cloud3pm']\n"
   ]
  },
  {
   "cell_type": "code",
   "execution_count": 230,
   "metadata": {},
   "outputs": [],
   "source": [
    "#Creating a new array with Rain Tomorrow column as we will be predicting that\n",
    "checkInfo = baseInfo.copy()\n",
    "checkInfo.append('RainTomorrow')"
   ]
  },
  {
   "cell_type": "markdown",
   "metadata": {},
   "source": [
    "With Machine learning, Null values could cause some problem with the algorithms so it is best if we deal with the NaN values in the dataset beforehand."
   ]
  },
  {
   "cell_type": "code",
   "execution_count": 231,
   "metadata": {},
   "outputs": [
    {
     "name": "stdout",
     "output_type": "stream",
     "text": [
      "<class 'pandas.core.frame.DataFrame'>\n",
      "Int64Index: 62089 entries, 6049 to 142302\n",
      "Data columns (total 23 columns):\n",
      "Date             62089 non-null object\n",
      "Location         62089 non-null object\n",
      "MinTemp          62049 non-null float64\n",
      "MaxTemp          62070 non-null float64\n",
      "Rainfall         62089 non-null float64\n",
      "Evaporation      62089 non-null float64\n",
      "Sunshine         62089 non-null float64\n",
      "WindGustDir      58213 non-null object\n",
      "WindGustSpeed    58230 non-null float64\n",
      "WindDir9am       60269 non-null object\n",
      "WindDir3pm       61768 non-null object\n",
      "WindSpeed9am     61980 non-null float64\n",
      "WindSpeed3pm     62008 non-null float64\n",
      "Humidity9am      62089 non-null float64\n",
      "Humidity3pm      62089 non-null float64\n",
      "Pressure9am      62003 non-null float64\n",
      "Pressure3pm      62024 non-null float64\n",
      "Cloud9am         62089 non-null float64\n",
      "Cloud3pm         62089 non-null float64\n",
      "Temp9am          62089 non-null float64\n",
      "Temp3pm          62089 non-null float64\n",
      "RainToday        62089 non-null object\n",
      "RainTomorrow     62089 non-null object\n",
      "dtypes: float64(16), object(7)\n",
      "memory usage: 11.4+ MB\n"
     ]
    }
   ],
   "source": [
    "df = df.dropna(subset= checkInfo)\n",
    "df.info()"
   ]
  },
  {
   "cell_type": "markdown",
   "metadata": {},
   "source": [
    "## Training and Testing Data\n",
    "Training and testing data is important for Machine learning. Training datasets allows the algorithm to learn the dataset being used, with which predictions will be made by the algorithm, which in this project is K-Nearest Neighbours (KNN)"
   ]
  },
  {
   "cell_type": "code",
   "execution_count": 232,
   "metadata": {},
   "outputs": [],
   "source": [
    "X = df[baseInfo]   # data \n",
    "Y = df['RainTomorrow'] #target"
   ]
  },
  {
   "cell_type": "code",
   "execution_count": 233,
   "metadata": {},
   "outputs": [],
   "source": [
    "from sklearn.model_selection import train_test_split"
   ]
  },
  {
   "cell_type": "code",
   "execution_count": 234,
   "metadata": {},
   "outputs": [],
   "source": [
    "X_train, X_test, Y_train, Y_test = train_test_split( X , Y, random_state = 42)"
   ]
  },
  {
   "cell_type": "code",
   "execution_count": 235,
   "metadata": {},
   "outputs": [
    {
     "data": {
      "text/plain": [
       "0.7499879205656397"
      ]
     },
     "execution_count": 235,
     "metadata": {},
     "output_type": "execute_result"
    }
   ],
   "source": [
    "len(X_train) / len(X) #this shows that we have 74.9% of the data in the training set"
   ]
  },
  {
   "cell_type": "markdown",
   "metadata": {},
   "source": [
    "## Reason for using KNN:\n",
    "\n",
    "Since we have to predict the rainfall for the next day, I will be using K nearest neighbor (KNN) algorithm as this algorithm considers all possible case scenarios and get new cases based on the similarities.\n",
    "\n",
    "The reason I chose KNN over other classifier is because it is a simple algorithm and has a quick calculation time. This algorithm also has high accuracy as well as we do not need any assumptions about data"
   ]
  },
  {
   "cell_type": "code",
   "execution_count": 236,
   "metadata": {},
   "outputs": [],
   "source": [
    "from sklearn.neighbors import KNeighborsClassifier"
   ]
  },
  {
   "cell_type": "code",
   "execution_count": 237,
   "metadata": {},
   "outputs": [],
   "source": [
    "classf= KNeighborsClassifier(n_neighbors= 10)"
   ]
  },
  {
   "cell_type": "markdown",
   "metadata": {},
   "source": [
    "As you can see below in the graph, it shows that the score is high(0.82 and above) for neighbors 10 and above, so thats how I decided my n_neighbors for the above classifier"
   ]
  },
  {
   "cell_type": "code",
   "execution_count": 238,
   "metadata": {},
   "outputs": [
    {
     "data": {
      "text/plain": [
       "[<matplotlib.lines.Line2D at 0x7ff1a8bf0550>]"
      ]
     },
     "execution_count": 238,
     "metadata": {},
     "output_type": "execute_result"
    },
    {
     "data": {
      "image/png": "[encoded data removed]",
      "text/plain": [
       "<Figure size 432x288 with 1 Axes>"
      ]
     },
     "metadata": {
      "needs_background": "light"
     },
     "output_type": "display_data"
    }
   ],
   "source": [
    "scorearr = []\n",
    "for n in range(1,20):\n",
    "    classf = KNeighborsClassifier(n_neighbors=n)\n",
    "    classf.fit(X_train, Y_train)\n",
    "    scorearr.append(classf.score(X_test, Y_test))\n",
    "plt.plot(range(1,20), scorearr)"
   ]
  },
  {
   "cell_type": "code",
   "execution_count": 239,
   "metadata": {},
   "outputs": [
    {
     "data": {
      "text/plain": [
       "KNeighborsClassifier(algorithm='auto', leaf_size=30, metric='minkowski',\n",
       "                     metric_params=None, n_jobs=None, n_neighbors=19, p=2,\n",
       "                     weights='uniform')"
      ]
     },
     "execution_count": 239,
     "metadata": {},
     "output_type": "execute_result"
    }
   ],
   "source": [
    "classf.fit(X_train,Y_train)"
   ]
  },
  {
   "cell_type": "code",
   "execution_count": 240,
   "metadata": {},
   "outputs": [
    {
     "data": {
      "text/plain": [
       "array(['No', 'No', 'No', ..., 'No', 'No', 'Yes'], dtype=object)"
      ]
     },
     "execution_count": 240,
     "metadata": {},
     "output_type": "execute_result"
    }
   ],
   "source": [
    "y_pred = classf.predict(X_test)\n",
    "y_pred"
   ]
  },
  {
   "cell_type": "code",
   "execution_count": 241,
   "metadata": {},
   "outputs": [
    {
     "name": "stdout",
     "output_type": "stream",
     "text": [
      "0.8328931263286736\n",
      "The prediction accuracy is 83.29 %\n"
     ]
    }
   ],
   "source": [
    "sc = classf.score(X_test, Y_test)\n",
    "scperc = \"{:.2f}\".format(sc*100)\n",
    "print(sc)\n",
    "print(f\"The prediction accuracy is {scperc} %\")"
   ]
  },
  {
   "cell_type": "code",
   "execution_count": 242,
   "metadata": {},
   "outputs": [
    {
     "data": {
      "text/plain": [
       "(array([48234.,     0.,     0.,     0.,     0.,     0.,     0.,     0.,\n",
       "            0., 13855.]),\n",
       " array([0. , 0.1, 0.2, 0.3, 0.4, 0.5, 0.6, 0.7, 0.8, 0.9, 1. ]),\n",
       " <a list of 10 Patch objects>)"
      ]
     },
     "execution_count": 242,
     "metadata": {},
     "output_type": "execute_result"
    },
    {
     "data": {
      "image/png": "[encoded data removed]",
      "text/plain": [
       "<Figure size 432x288 with 1 Axes>"
      ]
     },
     "metadata": {
      "needs_background": "light"
     },
     "output_type": "display_data"
    }
   ],
   "source": [
    "plt.hist(df['RainTomorrow'])"
   ]
  },
  {
   "cell_type": "markdown",
   "metadata": {},
   "source": [
    "## Confusion Matrix\n",
    "\n",
    "Confusion matrix will show a summary of the prediction results. It shows the number of correct predictions and incorrect predictions"
   ]
  },
  {
   "cell_type": "code",
   "execution_count": 243,
   "metadata": {},
   "outputs": [],
   "source": [
    "from sklearn.metrics import confusion_matrix"
   ]
  },
  {
   "cell_type": "code",
   "execution_count": 244,
   "metadata": {},
   "outputs": [
    {
     "data": {
      "text/plain": [
       "array([[11353,   684],\n",
       "       [ 1910,  1576]])"
      ]
     },
     "execution_count": 244,
     "metadata": {},
     "output_type": "execute_result"
    }
   ],
   "source": [
    "confusion_matrix(Y_test, y_pred)"
   ]
  },
  {
   "cell_type": "markdown",
   "metadata": {},
   "source": [
    "In the above matrix,\n",
    "\n",
    "- Top left number (11353) is the true negatives, which in this case is the correct predictions of no rain.\n",
    "- Bottom left number (1910) is the false negatives, which in this case is the prediction that it wouldn't rain but it actually did.\n",
    "- Top right number (684) is the false positives, which in this case is the prediction that it would rain but it actually did not.\n",
    "- Bottom right number (1576) is the true positives, which in this case is the correct predictions of rain"
   ]
  },
  {
   "cell_type": "markdown",
   "metadata": {},
   "source": [
    "This matrix was to give a more accurate answer and numbers to which predictions were correct and which were not"
   ]
  },
  {
   "cell_type": "markdown",
   "metadata": {},
   "source": [
    "## Classification Report\n",
    "\n",
    "This report shows the evaluation of the performance of the model\n"
   ]
  },
  {
   "cell_type": "code",
   "execution_count": 245,
   "metadata": {},
   "outputs": [],
   "source": [
    "from sklearn.metrics import classification_report"
   ]
  },
  {
   "cell_type": "code",
   "execution_count": 246,
   "metadata": {},
   "outputs": [
    {
     "name": "stdout",
     "output_type": "stream",
     "text": [
      "              precision    recall  f1-score   support\n",
      "\n",
      "          No       0.86      0.94      0.90     12037\n",
      "         Yes       0.70      0.45      0.55      3486\n",
      "\n",
      "    accuracy                           0.83     15523\n",
      "   macro avg       0.78      0.70      0.72     15523\n",
      "weighted avg       0.82      0.83      0.82     15523\n",
      "\n"
     ]
    }
   ],
   "source": [
    "print(classification_report(Y_test, y_pred)) "
   ]
  },
  {
   "cell_type": "markdown",
   "metadata": {},
   "source": [
    "As you can see above, the report shows us the how our models performance is. Precisions shows the ratio of true positive to sum of true and false positives. Recall shows the ration of true positives to sum of true positives and false negative. F1-score shows the mean of precisions and recall. If the F1 score is close to 1, that means the model's performance is good."
   ]
  },
  {
   "cell_type": "markdown",
   "metadata": {},
   "source": [
    "## Summary"
   ]
  },
  {
   "cell_type": "markdown",
   "metadata": {},
   "source": [
    "In conclusion, for this project, before doing anything, I imported the dataset that was given. With that I chose specific columns to help make the predictions, whether it would rain the next day or not. With that done, the next thing was training the data, allowing the algorithm to learn the dataset being used, which in this project is K-Nearest-Neighbor. I used KNN classsifier to predict using the trained data and with that, printed the output score of my accuracy, along with a confusion matrix and a classificationt report."
   ]
  }
 ],
 "metadata": {
  "interpreter": {
   "hash": "40d3a090f54c6569ab1632332b64b2c03c39dcf918b08424e98f38b5ae0af88f"
  },
  "kernelspec": {
   "display_name": "Python 3.7.4 64-bit ('base': conda)",
   "language": "python",
   "name": "python3"
  },
  "language_info": {
   "codemirror_mode": {
    "name": "ipython",
    "version": 3
   },
   "file_extension": ".py",
   "mimetype": "text/x-python",
   "name": "python",
   "nbconvert_exporter": "python",
   "pygments_lexer": "ipython3",
   "version": "3.7.4"
  },
  "orig_nbformat": 4
 },
 "nbformat": 4,
 "nbformat_minor": 2
}
